{
 "cells": [
  {
   "cell_type": "code",
   "execution_count": 1,
   "metadata": {},
   "outputs": [
    {
     "output_type": "execute_result",
     "data": {
      "text/plain": "           Estado  Clave SIINAH   Siglas  \\\n0  Aguascalientes     2300100.0  M.- M.H   \n1  Aguascalientes     2300100.0  M.- M.H   \n2  Aguascalientes     2300100.0  M.- M.H   \n3  Aguascalientes     2300100.0  M.- M.H   \n4  Aguascalientes     2300100.0  M.- M.H   \n\n                              Centro de trabajo   Año  Mes  \\\n0  Museo Regional de Historia de Aguascalientes  2019    1   \n1  Museo Regional de Historia de Aguascalientes  2019    1   \n2  Museo Regional de Historia de Aguascalientes  2019    1   \n3  Museo Regional de Historia de Aguascalientes  2019    1   \n4  Museo Regional de Historia de Aguascalientes  2019    1   \n\n           Tipo de visitantes Número de visitas Nacionalidad  \n0    Estudiantes nivel básico               527     Nacional  \n1           Entrada dominical               617     Nacional  \n2               Boleto pagado                19  Extranjeros  \n3  Estudiantes nivel superior               188     Nacional  \n4               Boleto pagado                80     Nacional  ",
      "text/html": "<div>\n<style scoped>\n    .dataframe tbody tr th:only-of-type {\n        vertical-align: middle;\n    }\n\n    .dataframe tbody tr th {\n        vertical-align: top;\n    }\n\n    .dataframe thead th {\n        text-align: right;\n    }\n</style>\n<table border=\"1\" class=\"dataframe\">\n  <thead>\n    <tr style=\"text-align: right;\">\n      <th></th>\n      <th>Estado</th>\n      <th>Clave SIINAH</th>\n      <th>Siglas</th>\n      <th>Centro de trabajo</th>\n      <th>Año</th>\n      <th>Mes</th>\n      <th>Tipo de visitantes</th>\n      <th>Número de visitas</th>\n      <th>Nacionalidad</th>\n    </tr>\n  </thead>\n  <tbody>\n    <tr>\n      <th>0</th>\n      <td>Aguascalientes</td>\n      <td>2300100.0</td>\n      <td>M.- M.H</td>\n      <td>Museo Regional de Historia de Aguascalientes</td>\n      <td>2019</td>\n      <td>1</td>\n      <td>Estudiantes nivel básico</td>\n      <td>527</td>\n      <td>Nacional</td>\n    </tr>\n    <tr>\n      <th>1</th>\n      <td>Aguascalientes</td>\n      <td>2300100.0</td>\n      <td>M.- M.H</td>\n      <td>Museo Regional de Historia de Aguascalientes</td>\n      <td>2019</td>\n      <td>1</td>\n      <td>Entrada dominical</td>\n      <td>617</td>\n      <td>Nacional</td>\n    </tr>\n    <tr>\n      <th>2</th>\n      <td>Aguascalientes</td>\n      <td>2300100.0</td>\n      <td>M.- M.H</td>\n      <td>Museo Regional de Historia de Aguascalientes</td>\n      <td>2019</td>\n      <td>1</td>\n      <td>Boleto pagado</td>\n      <td>19</td>\n      <td>Extranjeros</td>\n    </tr>\n    <tr>\n      <th>3</th>\n      <td>Aguascalientes</td>\n      <td>2300100.0</td>\n      <td>M.- M.H</td>\n      <td>Museo Regional de Historia de Aguascalientes</td>\n      <td>2019</td>\n      <td>1</td>\n      <td>Estudiantes nivel superior</td>\n      <td>188</td>\n      <td>Nacional</td>\n    </tr>\n    <tr>\n      <th>4</th>\n      <td>Aguascalientes</td>\n      <td>2300100.0</td>\n      <td>M.- M.H</td>\n      <td>Museo Regional de Historia de Aguascalientes</td>\n      <td>2019</td>\n      <td>1</td>\n      <td>Boleto pagado</td>\n      <td>80</td>\n      <td>Nacional</td>\n    </tr>\n  </tbody>\n</table>\n</div>"
     },
     "metadata": {},
     "execution_count": 1
    }
   ],
   "source": [
    "import pandas as pd\n",
    "\n",
    "data = pd.read_csv('INAH_detallado_2019.csv', encoding = 'ISO-8859-1')\n",
    "data.head()"
   ]
  },
  {
   "cell_type": "code",
   "execution_count": 13,
   "metadata": {},
   "outputs": [
    {
     "output_type": "execute_result",
     "data": {
      "text/plain": "                         Clave SIINAH\nEstado         Mes Año               \nAguascalientes 1   2019     2300100.0\n               2   2019     2300100.0\n               3   2019     2300100.0\n               4   2019     2300100.0\n               5   2019     2300100.0",
      "text/html": "<div>\n<style scoped>\n    .dataframe tbody tr th:only-of-type {\n        vertical-align: middle;\n    }\n\n    .dataframe tbody tr th {\n        vertical-align: top;\n    }\n\n    .dataframe thead th {\n        text-align: right;\n    }\n</style>\n<table border=\"1\" class=\"dataframe\">\n  <thead>\n    <tr style=\"text-align: right;\">\n      <th></th>\n      <th></th>\n      <th></th>\n      <th>Clave SIINAH</th>\n    </tr>\n    <tr>\n      <th>Estado</th>\n      <th>Mes</th>\n      <th>Año</th>\n      <th></th>\n    </tr>\n  </thead>\n  <tbody>\n    <tr>\n      <th rowspan=\"5\" valign=\"top\">Aguascalientes</th>\n      <th>1</th>\n      <th>2019</th>\n      <td>2300100.0</td>\n    </tr>\n    <tr>\n      <th>2</th>\n      <th>2019</th>\n      <td>2300100.0</td>\n    </tr>\n    <tr>\n      <th>3</th>\n      <th>2019</th>\n      <td>2300100.0</td>\n    </tr>\n    <tr>\n      <th>4</th>\n      <th>2019</th>\n      <td>2300100.0</td>\n    </tr>\n    <tr>\n      <th>5</th>\n      <th>2019</th>\n      <td>2300100.0</td>\n    </tr>\n  </tbody>\n</table>\n</div>"
     },
     "metadata": {},
     "execution_count": 13
    }
   ],
   "source": [
    "filter_by_state_temp = data.groupby(['Estado', 'Mes', 'Año', 'Número de visitas']).mean()\n",
    "\n",
    "filter_by_state_temp.head()"
   ]
  },
  {
   "cell_type": "code",
   "execution_count": 19,
   "metadata": {},
   "outputs": [
    {
     "output_type": "execute_result",
     "data": {
      "text/plain": "                                         Clave SIINAH     Año  Mes\nEstado         Tipo de visitantes                                 \nAguascalientes Boleto pagado                2300100.0  2019.0  6.5\n               Discapacitados               2300100.0  2019.0  6.5\n               Entrada dominical            2300100.0  2019.0  6.5\n               Entrada sin costo            2300100.0  2019.0  6.5\n               Estudiantes nivel básico     2300100.0  2019.0  6.5",
      "text/html": "<div>\n<style scoped>\n    .dataframe tbody tr th:only-of-type {\n        vertical-align: middle;\n    }\n\n    .dataframe tbody tr th {\n        vertical-align: top;\n    }\n\n    .dataframe thead th {\n        text-align: right;\n    }\n</style>\n<table border=\"1\" class=\"dataframe\">\n  <thead>\n    <tr style=\"text-align: right;\">\n      <th></th>\n      <th></th>\n      <th>Clave SIINAH</th>\n      <th>Año</th>\n      <th>Mes</th>\n    </tr>\n    <tr>\n      <th>Estado</th>\n      <th>Tipo de visitantes</th>\n      <th></th>\n      <th></th>\n      <th></th>\n    </tr>\n  </thead>\n  <tbody>\n    <tr>\n      <th rowspan=\"5\" valign=\"top\">Aguascalientes</th>\n      <th>Boleto pagado</th>\n      <td>2300100.0</td>\n      <td>2019.0</td>\n      <td>6.5</td>\n    </tr>\n    <tr>\n      <th>Discapacitados</th>\n      <td>2300100.0</td>\n      <td>2019.0</td>\n      <td>6.5</td>\n    </tr>\n    <tr>\n      <th>Entrada dominical</th>\n      <td>2300100.0</td>\n      <td>2019.0</td>\n      <td>6.5</td>\n    </tr>\n    <tr>\n      <th>Entrada sin costo</th>\n      <td>2300100.0</td>\n      <td>2019.0</td>\n      <td>6.5</td>\n    </tr>\n    <tr>\n      <th>Estudiantes nivel básico</th>\n      <td>2300100.0</td>\n      <td>2019.0</td>\n      <td>6.5</td>\n    </tr>\n  </tbody>\n</table>\n</div>"
     },
     "metadata": {},
     "execution_count": 19
    }
   ],
   "source": [
    "filter_by_state_type = data.groupby(['Estado', 'Tipo de visitantes']).mean()\n",
    "\n",
    "filter_by_state_type.head()"
   ]
  }
 ],
 "metadata": {
  "kernelspec": {
   "display_name": "Python 3",
   "language": "python",
   "name": "python3"
  },
  "language_info": {
   "codemirror_mode": {
    "name": "ipython",
    "version": 3
   },
   "file_extension": ".py",
   "mimetype": "text/x-python",
   "name": "python",
   "nbconvert_exporter": "python",
   "pygments_lexer": "ipython3",
   "version": "3.8.5-final"
  }
 },
 "nbformat": 4,
 "nbformat_minor": 4
}