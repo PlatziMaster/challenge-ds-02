{
 "cells": [
  {
   "cell_type": "code",
   "execution_count": 7,
   "metadata": {},
   "outputs": [
    {
     "name": "stdout",
     "output_type": "stream",
     "text": [
      "               Estado  Clave SIINAH   Siglas  \\\n",
      "0      Aguascalientes     2300100.0  M.- M.H   \n",
      "1      Aguascalientes     2300100.0  M.- M.H   \n",
      "2      Aguascalientes     2300100.0  M.- M.H   \n",
      "3      Aguascalientes     2300100.0  M.- M.H   \n",
      "4      Aguascalientes     2300100.0  M.- M.H   \n",
      "...               ...           ...      ...   \n",
      "42674       Zacatecas     3110022.0     Z.A.   \n",
      "42675       Zacatecas     3110022.0     Z.A.   \n",
      "42676       Zacatecas     3110022.0     Z.A.   \n",
      "42677       Zacatecas     3110022.0     Z.A.   \n",
      "42678       Zacatecas     3110022.0     Z.A.   \n",
      "\n",
      "                                  Centro de trabajo   Año  Mes  \\\n",
      "0      Museo Regional de Historia de Aguascalientes  2019    1   \n",
      "1      Museo Regional de Historia de Aguascalientes  2019    1   \n",
      "2      Museo Regional de Historia de Aguascalientes  2019    1   \n",
      "3      Museo Regional de Historia de Aguascalientes  2019    1   \n",
      "4      Museo Regional de Historia de Aguascalientes  2019    1   \n",
      "...                                             ...   ...  ...   \n",
      "42674         Z.A. de La Quemada con museo de sitio  2019   12   \n",
      "42675         Z.A. de La Quemada con museo de sitio  2019   12   \n",
      "42676         Z.A. de La Quemada con museo de sitio  2019   12   \n",
      "42677         Z.A. de La Quemada con museo de sitio  2019   12   \n",
      "42678         Z.A. de La Quemada con museo de sitio  2019   12   \n",
      "\n",
      "                                Tipo de visitantes Número de visitas  \\\n",
      "0                         Estudiantes nivel básico               527   \n",
      "1                                Entrada dominical               617   \n",
      "2                                    Boleto pagado                19   \n",
      "3                       Estudiantes nivel superior               188   \n",
      "4                                    Boleto pagado                80   \n",
      "...                                            ...               ...   \n",
      "42674  Exposiciones temporales con costo adicional                 0   \n",
      "42675                            Trabajadores INAH                 0   \n",
      "42676        Tercera edad, pensionados y jubilados               311   \n",
      "42677  Exposiciones temporales con costo adicional                 0   \n",
      "42678                            Entrada sin costo                 0   \n",
      "\n",
      "      Nacionalidad  \n",
      "0         Nacional  \n",
      "1         Nacional  \n",
      "2      Extranjeros  \n",
      "3         Nacional  \n",
      "4         Nacional  \n",
      "...            ...  \n",
      "42674  Extranjeros  \n",
      "42675     Nacional  \n",
      "42676     Nacional  \n",
      "42677     Nacional  \n",
      "42678  Extranjeros  \n",
      "\n",
      "[42679 rows x 9 columns]\n"
     ]
    }
   ],
   "source": [
    "import pandas as pd\n",
    "INAH=pd.read_csv('INAH_detallado_2019.csv',header=0,  encoding='latin-1')\n",
    "print(INAH)"
   ]
  },
  {
   "cell_type": "code",
   "execution_count": null,
   "metadata": {},
   "outputs": [],
   "source": []
  }
 ],
 "metadata": {
  "kernelspec": {
   "display_name": "Python 3",
   "language": "python",
   "name": "python3"
  },
  "language_info": {
   "codemirror_mode": {
    "name": "ipython",
    "version": 3
   },
   "file_extension": ".py",
   "mimetype": "text/x-python",
   "name": "python",
   "nbconvert_exporter": "python",
   "pygments_lexer": "ipython3",
   "version": "3.8.3"
  }
 },
 "nbformat": 4,
 "nbformat_minor": 4
}
