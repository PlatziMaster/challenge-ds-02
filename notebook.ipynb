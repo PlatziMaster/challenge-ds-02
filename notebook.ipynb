{
 "metadata": {
  "language_info": {
   "codemirror_mode": {
    "name": "ipython",
    "version": 3
   },
   "file_extension": ".py",
   "mimetype": "text/x-python",
   "name": "python",
   "nbconvert_exporter": "python",
   "pygments_lexer": "ipython3",
   "version": "3.7.6-final"
  },
  "orig_nbformat": 2,
  "kernelspec": {
   "name": "python_defaultSpec_1597500504712",
   "display_name": "Python 3.7.6 64-bit ('ai': conda)"
  }
 },
 "nbformat": 4,
 "nbformat_minor": 2,
 "cells": [
  {
   "cell_type": "markdown",
   "metadata": {},
   "source": [
    "2. Limpiar los datos, estructurarlos usando python y pandas. Únicamente, utilizaremos: Estado, Clave SIINAH, Centro de trabajo, Año, Mes, Tipo de visitantes, Número de visitas y Nacionalidad.\n",
    "\n",
    "**Mostrarlos como dataframe en Tabla con los datos mencionados arriba**\n",
    "\n",
    "3. Calculen los parámetros estadísticos:\n",
    "\n",
    "- Totales por Estado por temporalidad (Mes y Año)\n",
    "- Totales por Estado por tipo de visitante\n",
    "- Totales por Estado por tipo de visitante y temporalidad (Mes y Año)\n",
    "- Totales por Centro de trabajo y temporalidad (Mes y año)\n",
    "- Totales por Centro de trabajo por tipo de visitante (Año)\n",
    "- Promedio de visitantes totales por estado (Mes y Año)\n",
    "- Promedio de visitantes por tipo de visitante, por estado (Mes y Año)\n",
    "- Porcentaje de visitantes por Recinto en visitantes por estado (total por mes).\n",
    "- Porcentaje de tipo de visitantes por mes y año\n",
    "- Porcentaje de tipo de visitantes por recinto (Mes y Año)\n",
    "\n",
    "4. Graficar los parámetros estadísticos con Plotly. Deben tener textos descriptivos, títulos, nombres de ejes, etc.\n"
   ]
  },
  {
   "cell_type": "code",
   "execution_count": 1,
   "metadata": {},
   "outputs": [],
   "source": [
    "import pandas as pd\n",
    "from IPython.display import display"
   ]
  },
  {
   "cell_type": "code",
   "execution_count": 2,
   "metadata": {
    "tags": []
   },
   "outputs": [
    {
     "output_type": "display_data",
     "data": {
      "text/plain": "          Estado Clave SIINAH                       Centro de trabajo   Ano  \\\n10119    Durango      3110020  Z.A. de La Ferrer�a con museo de sitio  2019   \n42138  Zacatecas      2302000                      Museo de Guadalupe  2019   \n\n      Mes                           Tipo de visitantes  Numero de visitas  \\\n10119   8                            Entrada sin costo                359   \n42138   3  Exposiciones temporales con costo adicional                  0   \n\n      Nacionalidad  \n10119     Nacional  \n42138     Nacional  ",
      "text/html": "<div>\n<style scoped>\n    .dataframe tbody tr th:only-of-type {\n        vertical-align: middle;\n    }\n\n    .dataframe tbody tr th {\n        vertical-align: top;\n    }\n\n    .dataframe thead th {\n        text-align: right;\n    }\n</style>\n<table border=\"1\" class=\"dataframe\">\n  <thead>\n    <tr style=\"text-align: right;\">\n      <th></th>\n      <th>Estado</th>\n      <th>Clave SIINAH</th>\n      <th>Centro de trabajo</th>\n      <th>Ano</th>\n      <th>Mes</th>\n      <th>Tipo de visitantes</th>\n      <th>Numero de visitas</th>\n      <th>Nacionalidad</th>\n    </tr>\n  </thead>\n  <tbody>\n    <tr>\n      <th>10119</th>\n      <td>Durango</td>\n      <td>3110020</td>\n      <td>Z.A. de La Ferrer�a con museo de sitio</td>\n      <td>2019</td>\n      <td>8</td>\n      <td>Entrada sin costo</td>\n      <td>359</td>\n      <td>Nacional</td>\n    </tr>\n    <tr>\n      <th>42138</th>\n      <td>Zacatecas</td>\n      <td>2302000</td>\n      <td>Museo de Guadalupe</td>\n      <td>2019</td>\n      <td>3</td>\n      <td>Exposiciones temporales con costo adicional</td>\n      <td>0</td>\n      <td>Nacional</td>\n    </tr>\n  </tbody>\n</table>\n</div>"
     },
     "metadata": {}
    },
    {
     "output_type": "stream",
     "name": "stdout",
     "text": "<class 'pandas.core.frame.DataFrame'>\nRangeIndex: 42679 entries, 0 to 42678\nData columns (total 8 columns):\n #   Column              Non-Null Count  Dtype \n---  ------              --------------  ----- \n 0   Estado              42679 non-null  object\n 1   Clave SIINAH        42497 non-null  object\n 2   Centro de trabajo   42679 non-null  object\n 3   Ano                 42679 non-null  object\n 4   Mes                 42679 non-null  object\n 5   Tipo de visitantes  42679 non-null  object\n 6   Numero de visitas   42679 non-null  int32 \n 7   Nacionalidad        42679 non-null  object\ndtypes: int32(1), object(7)\nmemory usage: 2.4+ MB\n"
    },
    {
     "output_type": "display_data",
     "data": {
      "text/plain": "None"
     },
     "metadata": {}
    }
   ],
   "source": [
    "df = pd.read_csv('./INAH_detallado_2019.csv')\n",
    "df.drop(columns='Siglas', inplace=True)\n",
    "\n",
    "df['Numero de visitas'] = df['Numero de visitas'].str.replace(',', '').astype(int)\n",
    "columns = ['Clave SIINAH', 'Ano', 'Mes']\n",
    "df[columns] = df[columns].astype('Int64').astype('object')\n",
    "\n",
    "\n",
    "\n",
    "display(df.sample(2))\n",
    "display(df.info())"
   ]
  },
  {
   "cell_type": "code",
   "execution_count": 3,
   "metadata": {
    "tags": []
   },
   "outputs": [
    {
     "output_type": "display_data",
     "data": {
      "text/plain": "        Estado  Clave SIINAH  Centro de trabajo      Ano      Mes  \\\nFalse  42679.0         42497            42679.0  42679.0  42679.0   \nTrue       NaN           182                NaN      NaN      NaN   \n\n       Tipo de visitantes  Numero de visitas  Nacionalidad  \nFalse             42679.0            42679.0       42679.0  \nTrue                  NaN                NaN           NaN  ",
      "text/html": "<div>\n<style scoped>\n    .dataframe tbody tr th:only-of-type {\n        vertical-align: middle;\n    }\n\n    .dataframe tbody tr th {\n        vertical-align: top;\n    }\n\n    .dataframe thead th {\n        text-align: right;\n    }\n</style>\n<table border=\"1\" class=\"dataframe\">\n  <thead>\n    <tr style=\"text-align: right;\">\n      <th></th>\n      <th>Estado</th>\n      <th>Clave SIINAH</th>\n      <th>Centro de trabajo</th>\n      <th>Ano</th>\n      <th>Mes</th>\n      <th>Tipo de visitantes</th>\n      <th>Numero de visitas</th>\n      <th>Nacionalidad</th>\n    </tr>\n  </thead>\n  <tbody>\n    <tr>\n      <th>False</th>\n      <td>42679.0</td>\n      <td>42497</td>\n      <td>42679.0</td>\n      <td>42679.0</td>\n      <td>42679.0</td>\n      <td>42679.0</td>\n      <td>42679.0</td>\n      <td>42679.0</td>\n    </tr>\n    <tr>\n      <th>True</th>\n      <td>NaN</td>\n      <td>182</td>\n      <td>NaN</td>\n      <td>NaN</td>\n      <td>NaN</td>\n      <td>NaN</td>\n      <td>NaN</td>\n      <td>NaN</td>\n    </tr>\n  </tbody>\n</table>\n</div>"
     },
     "metadata": {}
    },
    {
     "output_type": "stream",
     "name": "stdout",
     "text": "[<NA>]\n[<NA>]\n[<NA>]\n[<NA>]\n"
    },
    {
     "output_type": "display_data",
     "data": {
      "text/plain": "       Estado  Clave SIINAH  Centro de trabajo    Ano    Mes  \\\nFalse   42679         42679              42679  42679  42679   \n\n       Tipo de visitantes  Numero de visitas  Nacionalidad  \nFalse               42679              42679         42679  ",
      "text/html": "<div>\n<style scoped>\n    .dataframe tbody tr th:only-of-type {\n        vertical-align: middle;\n    }\n\n    .dataframe tbody tr th {\n        vertical-align: top;\n    }\n\n    .dataframe thead th {\n        text-align: right;\n    }\n</style>\n<table border=\"1\" class=\"dataframe\">\n  <thead>\n    <tr style=\"text-align: right;\">\n      <th></th>\n      <th>Estado</th>\n      <th>Clave SIINAH</th>\n      <th>Centro de trabajo</th>\n      <th>Ano</th>\n      <th>Mes</th>\n      <th>Tipo de visitantes</th>\n      <th>Numero de visitas</th>\n      <th>Nacionalidad</th>\n    </tr>\n  </thead>\n  <tbody>\n    <tr>\n      <th>False</th>\n      <td>42679</td>\n      <td>42679</td>\n      <td>42679</td>\n      <td>42679</td>\n      <td>42679</td>\n      <td>42679</td>\n      <td>42679</td>\n      <td>42679</td>\n    </tr>\n  </tbody>\n</table>\n</div>"
     },
     "metadata": {}
    }
   ],
   "source": [
    "display( df.isna().apply(pd.Series.value_counts) )\n",
    "\n",
    "workcenters_without_keys = df['Centro de trabajo'][df['Clave SIINAH'].isna()].unique()\n",
    "\n",
    "for workcenter in workcenters_without_keys:\n",
    "    print(df['Clave SIINAH'][df['Centro de trabajo'].str.contains(workcenter)].unique())\n",
    "\n",
    "df['Clave SIINAH'].fillna('0000000', inplace=True)\n",
    "display( df.isna().apply(pd.Series.value_counts) )\n"
   ]
  },
  {
   "cell_type": "code",
   "execution_count": 4,
   "metadata": {},
   "outputs": [
    {
     "output_type": "execute_result",
     "data": {
      "text/plain": "                         Numero de visitas\nEstado         Ano  Mes                   \nAguascalientes 2019 1                 1776\n                    2                 1978\n                    3                 2287\n                    4                 3777\n                    5                 2469\n...                                    ...\nZacatecas      2019 8                10407\n                    9                22679\n                    10                8873\n                    11                9910\n                    12                9084\n\n[384 rows x 1 columns]",
      "text/html": "<div>\n<style scoped>\n    .dataframe tbody tr th:only-of-type {\n        vertical-align: middle;\n    }\n\n    .dataframe tbody tr th {\n        vertical-align: top;\n    }\n\n    .dataframe thead th {\n        text-align: right;\n    }\n</style>\n<table border=\"1\" class=\"dataframe\">\n  <thead>\n    <tr style=\"text-align: right;\">\n      <th></th>\n      <th></th>\n      <th></th>\n      <th>Numero de visitas</th>\n    </tr>\n    <tr>\n      <th>Estado</th>\n      <th>Ano</th>\n      <th>Mes</th>\n      <th></th>\n    </tr>\n  </thead>\n  <tbody>\n    <tr>\n      <th rowspan=\"5\" valign=\"top\">Aguascalientes</th>\n      <th rowspan=\"5\" valign=\"top\">2019</th>\n      <th>1</th>\n      <td>1776</td>\n    </tr>\n    <tr>\n      <th>2</th>\n      <td>1978</td>\n    </tr>\n    <tr>\n      <th>3</th>\n      <td>2287</td>\n    </tr>\n    <tr>\n      <th>4</th>\n      <td>3777</td>\n    </tr>\n    <tr>\n      <th>5</th>\n      <td>2469</td>\n    </tr>\n    <tr>\n      <th>...</th>\n      <th>...</th>\n      <th>...</th>\n      <td>...</td>\n    </tr>\n    <tr>\n      <th rowspan=\"5\" valign=\"top\">Zacatecas</th>\n      <th rowspan=\"5\" valign=\"top\">2019</th>\n      <th>8</th>\n      <td>10407</td>\n    </tr>\n    <tr>\n      <th>9</th>\n      <td>22679</td>\n    </tr>\n    <tr>\n      <th>10</th>\n      <td>8873</td>\n    </tr>\n    <tr>\n      <th>11</th>\n      <td>9910</td>\n    </tr>\n    <tr>\n      <th>12</th>\n      <td>9084</td>\n    </tr>\n  </tbody>\n</table>\n<p>384 rows × 1 columns</p>\n</div>"
     },
     "metadata": {},
     "execution_count": 4
    }
   ],
   "source": [
    "# - Totales por Estado por temporalidad (Mes y Año)\n",
    "group_state_date = ['Estado', 'Ano','Mes']\n",
    "df.groupby(group_state_date).sum()"
   ]
  },
  {
   "cell_type": "code",
   "execution_count": 5,
   "metadata": {},
   "outputs": [
    {
     "output_type": "execute_result",
     "data": {
      "text/plain": "                                                            Numero de visitas\nEstado         Tipo de visitantes                                            \nAguascalientes Boleto pagado                                             1832\n               Discapacitados                                              57\n               Entrada dominical                                        10359\n               Entrada sin costo                                         4359\n               Estudiantes nivel b�sico                                  7570\n...                                                                       ...\nZacatecas      Estudiantes nivel superior                               14682\n               Exposiciones temporales con costo adicional                  0\n               Profesores                                                5841\n               Tercera edad, pensionados y jubilados                     8965\n               Trabajadores INAH                                            6\n\n[320 rows x 1 columns]",
      "text/html": "<div>\n<style scoped>\n    .dataframe tbody tr th:only-of-type {\n        vertical-align: middle;\n    }\n\n    .dataframe tbody tr th {\n        vertical-align: top;\n    }\n\n    .dataframe thead th {\n        text-align: right;\n    }\n</style>\n<table border=\"1\" class=\"dataframe\">\n  <thead>\n    <tr style=\"text-align: right;\">\n      <th></th>\n      <th></th>\n      <th>Numero de visitas</th>\n    </tr>\n    <tr>\n      <th>Estado</th>\n      <th>Tipo de visitantes</th>\n      <th></th>\n    </tr>\n  </thead>\n  <tbody>\n    <tr>\n      <th rowspan=\"5\" valign=\"top\">Aguascalientes</th>\n      <th>Boleto pagado</th>\n      <td>1832</td>\n    </tr>\n    <tr>\n      <th>Discapacitados</th>\n      <td>57</td>\n    </tr>\n    <tr>\n      <th>Entrada dominical</th>\n      <td>10359</td>\n    </tr>\n    <tr>\n      <th>Entrada sin costo</th>\n      <td>4359</td>\n    </tr>\n    <tr>\n      <th>Estudiantes nivel b�sico</th>\n      <td>7570</td>\n    </tr>\n    <tr>\n      <th>...</th>\n      <th>...</th>\n      <td>...</td>\n    </tr>\n    <tr>\n      <th rowspan=\"5\" valign=\"top\">Zacatecas</th>\n      <th>Estudiantes nivel superior</th>\n      <td>14682</td>\n    </tr>\n    <tr>\n      <th>Exposiciones temporales con costo adicional</th>\n      <td>0</td>\n    </tr>\n    <tr>\n      <th>Profesores</th>\n      <td>5841</td>\n    </tr>\n    <tr>\n      <th>Tercera edad, pensionados y jubilados</th>\n      <td>8965</td>\n    </tr>\n    <tr>\n      <th>Trabajadores INAH</th>\n      <td>6</td>\n    </tr>\n  </tbody>\n</table>\n<p>320 rows × 1 columns</p>\n</div>"
     },
     "metadata": {},
     "execution_count": 5
    }
   ],
   "source": [
    "# - Totales por Estado por tipo de visitante\n",
    "group_state_visit_type = ['Estado', 'Tipo de visitantes']\n",
    "df.groupby(group_state_visit_type).sum()"
   ]
  },
  {
   "cell_type": "code",
   "execution_count": 6,
   "metadata": {},
   "outputs": [
    {
     "output_type": "execute_result",
     "data": {
      "text/plain": "                                                                     Numero de visitas\nEstado         Ano  Mes Tipo de visitantes                                            \nAguascalientes 2019 1   Boleto pagado                                               99\n                        Discapacitados                                               3\n                        Entrada dominical                                          617\n                        Entrada sin costo                                          167\n                        Estudiantes nivel b�sico                                   527\n...                                                                                ...\nZacatecas      2019 12  Estudiantes nivel superior                                 874\n                        Exposiciones temporales con costo adicional                  0\n                        Profesores                                                 386\n                        Tercera edad, pensionados y jubilados                      536\n                        Trabajadores INAH                                            0\n\n[3840 rows x 1 columns]",
      "text/html": "<div>\n<style scoped>\n    .dataframe tbody tr th:only-of-type {\n        vertical-align: middle;\n    }\n\n    .dataframe tbody tr th {\n        vertical-align: top;\n    }\n\n    .dataframe thead th {\n        text-align: right;\n    }\n</style>\n<table border=\"1\" class=\"dataframe\">\n  <thead>\n    <tr style=\"text-align: right;\">\n      <th></th>\n      <th></th>\n      <th></th>\n      <th></th>\n      <th>Numero de visitas</th>\n    </tr>\n    <tr>\n      <th>Estado</th>\n      <th>Ano</th>\n      <th>Mes</th>\n      <th>Tipo de visitantes</th>\n      <th></th>\n    </tr>\n  </thead>\n  <tbody>\n    <tr>\n      <th rowspan=\"5\" valign=\"top\">Aguascalientes</th>\n      <th rowspan=\"5\" valign=\"top\">2019</th>\n      <th rowspan=\"5\" valign=\"top\">1</th>\n      <th>Boleto pagado</th>\n      <td>99</td>\n    </tr>\n    <tr>\n      <th>Discapacitados</th>\n      <td>3</td>\n    </tr>\n    <tr>\n      <th>Entrada dominical</th>\n      <td>617</td>\n    </tr>\n    <tr>\n      <th>Entrada sin costo</th>\n      <td>167</td>\n    </tr>\n    <tr>\n      <th>Estudiantes nivel b�sico</th>\n      <td>527</td>\n    </tr>\n    <tr>\n      <th>...</th>\n      <th>...</th>\n      <th>...</th>\n      <th>...</th>\n      <td>...</td>\n    </tr>\n    <tr>\n      <th rowspan=\"5\" valign=\"top\">Zacatecas</th>\n      <th rowspan=\"5\" valign=\"top\">2019</th>\n      <th rowspan=\"5\" valign=\"top\">12</th>\n      <th>Estudiantes nivel superior</th>\n      <td>874</td>\n    </tr>\n    <tr>\n      <th>Exposiciones temporales con costo adicional</th>\n      <td>0</td>\n    </tr>\n    <tr>\n      <th>Profesores</th>\n      <td>386</td>\n    </tr>\n    <tr>\n      <th>Tercera edad, pensionados y jubilados</th>\n      <td>536</td>\n    </tr>\n    <tr>\n      <th>Trabajadores INAH</th>\n      <td>0</td>\n    </tr>\n  </tbody>\n</table>\n<p>3840 rows × 1 columns</p>\n</div>"
     },
     "metadata": {},
     "execution_count": 6
    }
   ],
   "source": [
    "# - Totales por Estado por tipo de visitante y temporalidad (Mes y Año)\n",
    "group_state_date_visit_type = group_state_date + ['Tipo de visitantes']\n",
    "df.groupby(group_state_date_visit_type).sum()"
   ]
  },
  {
   "cell_type": "code",
   "execution_count": 7,
   "metadata": {},
   "outputs": [
    {
     "output_type": "execute_result",
     "data": {
      "text/plain": "                                         Numero de visitas\nCentro de trabajo              Ano  Mes                   \nCapilla Abierta de Tlalmanalco 2019 1                 1172\n                                    2                 1382\n                                    3                 1298\n                                    4                 1268\n                                    5                  614\n...                                                    ...\nZ.A. de Zaachila               2019 8                  371\n                                    9                  182\n                                    10                 267\n                                    11                 303\n                                    12                 569\n\n[3283 rows x 1 columns]",
      "text/html": "<div>\n<style scoped>\n    .dataframe tbody tr th:only-of-type {\n        vertical-align: middle;\n    }\n\n    .dataframe tbody tr th {\n        vertical-align: top;\n    }\n\n    .dataframe thead th {\n        text-align: right;\n    }\n</style>\n<table border=\"1\" class=\"dataframe\">\n  <thead>\n    <tr style=\"text-align: right;\">\n      <th></th>\n      <th></th>\n      <th></th>\n      <th>Numero de visitas</th>\n    </tr>\n    <tr>\n      <th>Centro de trabajo</th>\n      <th>Ano</th>\n      <th>Mes</th>\n      <th></th>\n    </tr>\n  </thead>\n  <tbody>\n    <tr>\n      <th rowspan=\"5\" valign=\"top\">Capilla Abierta de Tlalmanalco</th>\n      <th rowspan=\"5\" valign=\"top\">2019</th>\n      <th>1</th>\n      <td>1172</td>\n    </tr>\n    <tr>\n      <th>2</th>\n      <td>1382</td>\n    </tr>\n    <tr>\n      <th>3</th>\n      <td>1298</td>\n    </tr>\n    <tr>\n      <th>4</th>\n      <td>1268</td>\n    </tr>\n    <tr>\n      <th>5</th>\n      <td>614</td>\n    </tr>\n    <tr>\n      <th>...</th>\n      <th>...</th>\n      <th>...</th>\n      <td>...</td>\n    </tr>\n    <tr>\n      <th rowspan=\"5\" valign=\"top\">Z.A. de Zaachila</th>\n      <th rowspan=\"5\" valign=\"top\">2019</th>\n      <th>8</th>\n      <td>371</td>\n    </tr>\n    <tr>\n      <th>9</th>\n      <td>182</td>\n    </tr>\n    <tr>\n      <th>10</th>\n      <td>267</td>\n    </tr>\n    <tr>\n      <th>11</th>\n      <td>303</td>\n    </tr>\n    <tr>\n      <th>12</th>\n      <td>569</td>\n    </tr>\n  </tbody>\n</table>\n<p>3283 rows × 1 columns</p>\n</div>"
     },
     "metadata": {},
     "execution_count": 7
    }
   ],
   "source": [
    "# - Totales por Centro de trabajo y temporalidad (Mes y año)\n",
    "group_workcenter_date = ['Centro de trabajo', 'Ano', 'Mes']\n",
    "df.groupby(group_workcenter_date).sum()"
   ]
  },
  {
   "cell_type": "code",
   "execution_count": 8,
   "metadata": {},
   "outputs": [
    {
     "output_type": "execute_result",
     "data": {
      "text/plain": "                                                                                 Numero de visitas\nCentro de trabajo              Ano  Tipo de visitantes                                            \nCapilla Abierta de Tlalmanalco 2019 Boleto pagado                                               89\n                                    Discapacitados                                              75\n                                    Entrada dominical                                         4606\n                                    Entrada sin costo                                         6962\n                                    Estudiantes nivel b�sico                                   633\n...                                                                                            ...\nZ.A. de Zaachila               2019 Estudiantes nivel superior                                 294\n                                    Exposiciones temporales con costo adicional                  0\n                                    Profesores                                                 182\n                                    Tercera edad, pensionados y jubilados                      161\n                                    Trabajadores INAH                                           36\n\n[2770 rows x 1 columns]",
      "text/html": "<div>\n<style scoped>\n    .dataframe tbody tr th:only-of-type {\n        vertical-align: middle;\n    }\n\n    .dataframe tbody tr th {\n        vertical-align: top;\n    }\n\n    .dataframe thead th {\n        text-align: right;\n    }\n</style>\n<table border=\"1\" class=\"dataframe\">\n  <thead>\n    <tr style=\"text-align: right;\">\n      <th></th>\n      <th></th>\n      <th></th>\n      <th>Numero de visitas</th>\n    </tr>\n    <tr>\n      <th>Centro de trabajo</th>\n      <th>Ano</th>\n      <th>Tipo de visitantes</th>\n      <th></th>\n    </tr>\n  </thead>\n  <tbody>\n    <tr>\n      <th rowspan=\"5\" valign=\"top\">Capilla Abierta de Tlalmanalco</th>\n      <th rowspan=\"5\" valign=\"top\">2019</th>\n      <th>Boleto pagado</th>\n      <td>89</td>\n    </tr>\n    <tr>\n      <th>Discapacitados</th>\n      <td>75</td>\n    </tr>\n    <tr>\n      <th>Entrada dominical</th>\n      <td>4606</td>\n    </tr>\n    <tr>\n      <th>Entrada sin costo</th>\n      <td>6962</td>\n    </tr>\n    <tr>\n      <th>Estudiantes nivel b�sico</th>\n      <td>633</td>\n    </tr>\n    <tr>\n      <th>...</th>\n      <th>...</th>\n      <th>...</th>\n      <td>...</td>\n    </tr>\n    <tr>\n      <th rowspan=\"5\" valign=\"top\">Z.A. de Zaachila</th>\n      <th rowspan=\"5\" valign=\"top\">2019</th>\n      <th>Estudiantes nivel superior</th>\n      <td>294</td>\n    </tr>\n    <tr>\n      <th>Exposiciones temporales con costo adicional</th>\n      <td>0</td>\n    </tr>\n    <tr>\n      <th>Profesores</th>\n      <td>182</td>\n    </tr>\n    <tr>\n      <th>Tercera edad, pensionados y jubilados</th>\n      <td>161</td>\n    </tr>\n    <tr>\n      <th>Trabajadores INAH</th>\n      <td>36</td>\n    </tr>\n  </tbody>\n</table>\n<p>2770 rows × 1 columns</p>\n</div>"
     },
     "metadata": {},
     "execution_count": 8
    }
   ],
   "source": [
    "# - Totales por Centro de trabajo por tipo de visitante (Año)\n",
    "group_workcenter_date_visit_type = group_workcenter_date + ['Tipo de visitantes']\n",
    "group_workcenter_date_visit_type.remove('Mes')\n",
    "df.groupby(group_workcenter_date_visit_type).sum()"
   ]
  },
  {
   "cell_type": "code",
   "execution_count": 9,
   "metadata": {},
   "outputs": [
    {
     "output_type": "execute_result",
     "data": {
      "text/plain": "                         Numero de visitas\nEstado         Ano  Mes                   \nAguascalientes 2019 1                  137\n                    2                  152\n                    3                  176\n                    4                  291\n                    5                  190\n...                                    ...\nZacatecas      2019 8                  267\n                    9                  349\n                    10                 137\n                    11                 152\n                    12                 140\n\n[384 rows x 1 columns]",
      "text/html": "<div>\n<style scoped>\n    .dataframe tbody tr th:only-of-type {\n        vertical-align: middle;\n    }\n\n    .dataframe tbody tr th {\n        vertical-align: top;\n    }\n\n    .dataframe thead th {\n        text-align: right;\n    }\n</style>\n<table border=\"1\" class=\"dataframe\">\n  <thead>\n    <tr style=\"text-align: right;\">\n      <th></th>\n      <th></th>\n      <th></th>\n      <th>Numero de visitas</th>\n    </tr>\n    <tr>\n      <th>Estado</th>\n      <th>Ano</th>\n      <th>Mes</th>\n      <th></th>\n    </tr>\n  </thead>\n  <tbody>\n    <tr>\n      <th rowspan=\"5\" valign=\"top\">Aguascalientes</th>\n      <th rowspan=\"5\" valign=\"top\">2019</th>\n      <th>1</th>\n      <td>137</td>\n    </tr>\n    <tr>\n      <th>2</th>\n      <td>152</td>\n    </tr>\n    <tr>\n      <th>3</th>\n      <td>176</td>\n    </tr>\n    <tr>\n      <th>4</th>\n      <td>291</td>\n    </tr>\n    <tr>\n      <th>5</th>\n      <td>190</td>\n    </tr>\n    <tr>\n      <th>...</th>\n      <th>...</th>\n      <th>...</th>\n      <td>...</td>\n    </tr>\n    <tr>\n      <th rowspan=\"5\" valign=\"top\">Zacatecas</th>\n      <th rowspan=\"5\" valign=\"top\">2019</th>\n      <th>8</th>\n      <td>267</td>\n    </tr>\n    <tr>\n      <th>9</th>\n      <td>349</td>\n    </tr>\n    <tr>\n      <th>10</th>\n      <td>137</td>\n    </tr>\n    <tr>\n      <th>11</th>\n      <td>152</td>\n    </tr>\n    <tr>\n      <th>12</th>\n      <td>140</td>\n    </tr>\n  </tbody>\n</table>\n<p>384 rows × 1 columns</p>\n</div>"
     },
     "metadata": {},
     "execution_count": 9
    }
   ],
   "source": [
    "# - Promedio de visitantes totales por estado (Mes y Año)\n",
    "df.groupby(group_state_date).mean().round().astype(int)"
   ]
  },
  {
   "cell_type": "code",
   "execution_count": 10,
   "metadata": {},
   "outputs": [
    {
     "output_type": "execute_result",
     "data": {
      "text/plain": "                                                                     Numero de visitas\nEstado         Ano  Mes Tipo de visitantes                                            \nAguascalientes 2019 1   Boleto pagado                                               50\n                        Discapacitados                                               3\n                        Entrada dominical                                          617\n                        Entrada sin costo                                           84\n                        Estudiantes nivel b�sico                                   527\n...                                                                                ...\nZacatecas      2019 12  Estudiantes nivel superior                                 175\n                        Exposiciones temporales con costo adicional                  0\n                        Profesores                                                  77\n                        Tercera edad, pensionados y jubilados                      107\n                        Trabajadores INAH                                            0\n\n[3840 rows x 1 columns]",
      "text/html": "<div>\n<style scoped>\n    .dataframe tbody tr th:only-of-type {\n        vertical-align: middle;\n    }\n\n    .dataframe tbody tr th {\n        vertical-align: top;\n    }\n\n    .dataframe thead th {\n        text-align: right;\n    }\n</style>\n<table border=\"1\" class=\"dataframe\">\n  <thead>\n    <tr style=\"text-align: right;\">\n      <th></th>\n      <th></th>\n      <th></th>\n      <th></th>\n      <th>Numero de visitas</th>\n    </tr>\n    <tr>\n      <th>Estado</th>\n      <th>Ano</th>\n      <th>Mes</th>\n      <th>Tipo de visitantes</th>\n      <th></th>\n    </tr>\n  </thead>\n  <tbody>\n    <tr>\n      <th rowspan=\"5\" valign=\"top\">Aguascalientes</th>\n      <th rowspan=\"5\" valign=\"top\">2019</th>\n      <th rowspan=\"5\" valign=\"top\">1</th>\n      <th>Boleto pagado</th>\n      <td>50</td>\n    </tr>\n    <tr>\n      <th>Discapacitados</th>\n      <td>3</td>\n    </tr>\n    <tr>\n      <th>Entrada dominical</th>\n      <td>617</td>\n    </tr>\n    <tr>\n      <th>Entrada sin costo</th>\n      <td>84</td>\n    </tr>\n    <tr>\n      <th>Estudiantes nivel b�sico</th>\n      <td>527</td>\n    </tr>\n    <tr>\n      <th>...</th>\n      <th>...</th>\n      <th>...</th>\n      <th>...</th>\n      <td>...</td>\n    </tr>\n    <tr>\n      <th rowspan=\"5\" valign=\"top\">Zacatecas</th>\n      <th rowspan=\"5\" valign=\"top\">2019</th>\n      <th rowspan=\"5\" valign=\"top\">12</th>\n      <th>Estudiantes nivel superior</th>\n      <td>175</td>\n    </tr>\n    <tr>\n      <th>Exposiciones temporales con costo adicional</th>\n      <td>0</td>\n    </tr>\n    <tr>\n      <th>Profesores</th>\n      <td>77</td>\n    </tr>\n    <tr>\n      <th>Tercera edad, pensionados y jubilados</th>\n      <td>107</td>\n    </tr>\n    <tr>\n      <th>Trabajadores INAH</th>\n      <td>0</td>\n    </tr>\n  </tbody>\n</table>\n<p>3840 rows × 1 columns</p>\n</div>"
     },
     "metadata": {},
     "execution_count": 10
    }
   ],
   "source": [
    "# - Promedio de visitantes por tipo de visitante, por estado (Mes y Año)\n",
    "df.groupby(group_state_date_visit_type).mean().round().astype(int)\n"
   ]
  },
  {
   "cell_type": "code",
   "execution_count": 18,
   "metadata": {},
   "outputs": [
    {
     "output_type": "display_data",
     "data": {
      "text/plain": "                                                                       Numero de visitas\nEstado         Mes Centro de trabajo                                                    \nAguascalientes 1   Museo Regional de Historia de Aguascalientes                     1776\n               2   Museo Regional de Historia de Aguascalientes                     1978\n               3   Museo Regional de Historia de Aguascalientes                     2287\n               4   Museo Regional de Historia de Aguascalientes                     3777\n               5   Museo Regional de Historia de Aguascalientes                     2469\n...                                                                                  ...\nZacatecas      12  Museo de Guadalupe                                               3081\n                   Z.A. Cerro de las Ventanas                                        827\n                   Z.A. Cerro del Te�l                                               940\n                   Z.A. de Altavista o Chalchihuites con museo de ...                418\n                   Z.A. de La Quemada con museo de sitio                            3818\n\n[3283 rows x 1 columns]",
      "text/html": "<div>\n<style scoped>\n    .dataframe tbody tr th:only-of-type {\n        vertical-align: middle;\n    }\n\n    .dataframe tbody tr th {\n        vertical-align: top;\n    }\n\n    .dataframe thead th {\n        text-align: right;\n    }\n</style>\n<table border=\"1\" class=\"dataframe\">\n  <thead>\n    <tr style=\"text-align: right;\">\n      <th></th>\n      <th></th>\n      <th></th>\n      <th>Numero de visitas</th>\n    </tr>\n    <tr>\n      <th>Estado</th>\n      <th>Mes</th>\n      <th>Centro de trabajo</th>\n      <th></th>\n    </tr>\n  </thead>\n  <tbody>\n    <tr>\n      <th rowspan=\"5\" valign=\"top\">Aguascalientes</th>\n      <th>1</th>\n      <th>Museo Regional de Historia de Aguascalientes</th>\n      <td>1776</td>\n    </tr>\n    <tr>\n      <th>2</th>\n      <th>Museo Regional de Historia de Aguascalientes</th>\n      <td>1978</td>\n    </tr>\n    <tr>\n      <th>3</th>\n      <th>Museo Regional de Historia de Aguascalientes</th>\n      <td>2287</td>\n    </tr>\n    <tr>\n      <th>4</th>\n      <th>Museo Regional de Historia de Aguascalientes</th>\n      <td>3777</td>\n    </tr>\n    <tr>\n      <th>5</th>\n      <th>Museo Regional de Historia de Aguascalientes</th>\n      <td>2469</td>\n    </tr>\n    <tr>\n      <th>...</th>\n      <th>...</th>\n      <th>...</th>\n      <td>...</td>\n    </tr>\n    <tr>\n      <th rowspan=\"5\" valign=\"top\">Zacatecas</th>\n      <th rowspan=\"5\" valign=\"top\">12</th>\n      <th>Museo de Guadalupe</th>\n      <td>3081</td>\n    </tr>\n    <tr>\n      <th>Z.A. Cerro de las Ventanas</th>\n      <td>827</td>\n    </tr>\n    <tr>\n      <th>Z.A. Cerro del Te�l</th>\n      <td>940</td>\n    </tr>\n    <tr>\n      <th>Z.A. de Altavista o Chalchihuites con museo de sitio</th>\n      <td>418</td>\n    </tr>\n    <tr>\n      <th>Z.A. de La Quemada con museo de sitio</th>\n      <td>3818</td>\n    </tr>\n  </tbody>\n</table>\n<p>3283 rows × 1 columns</p>\n</div>"
     },
     "metadata": {}
    },
    {
     "output_type": "display_data",
     "data": {
      "text/plain": "                    Numero de visitas\nEstado         Mes                   \nAguascalientes 1                 1776\n               2                 1978\n               3                 2287\n               4                 3777\n               5                 2469\n...                               ...\nZacatecas      8                10407\n               9                22679\n               10                8873\n               11                9910\n               12                9084\n\n[384 rows x 1 columns]",
      "text/html": "<div>\n<style scoped>\n    .dataframe tbody tr th:only-of-type {\n        vertical-align: middle;\n    }\n\n    .dataframe tbody tr th {\n        vertical-align: top;\n    }\n\n    .dataframe thead th {\n        text-align: right;\n    }\n</style>\n<table border=\"1\" class=\"dataframe\">\n  <thead>\n    <tr style=\"text-align: right;\">\n      <th></th>\n      <th></th>\n      <th>Numero de visitas</th>\n    </tr>\n    <tr>\n      <th>Estado</th>\n      <th>Mes</th>\n      <th></th>\n    </tr>\n  </thead>\n  <tbody>\n    <tr>\n      <th rowspan=\"5\" valign=\"top\">Aguascalientes</th>\n      <th>1</th>\n      <td>1776</td>\n    </tr>\n    <tr>\n      <th>2</th>\n      <td>1978</td>\n    </tr>\n    <tr>\n      <th>3</th>\n      <td>2287</td>\n    </tr>\n    <tr>\n      <th>4</th>\n      <td>3777</td>\n    </tr>\n    <tr>\n      <th>5</th>\n      <td>2469</td>\n    </tr>\n    <tr>\n      <th>...</th>\n      <th>...</th>\n      <td>...</td>\n    </tr>\n    <tr>\n      <th rowspan=\"5\" valign=\"top\">Zacatecas</th>\n      <th>8</th>\n      <td>10407</td>\n    </tr>\n    <tr>\n      <th>9</th>\n      <td>22679</td>\n    </tr>\n    <tr>\n      <th>10</th>\n      <td>8873</td>\n    </tr>\n    <tr>\n      <th>11</th>\n      <td>9910</td>\n    </tr>\n    <tr>\n      <th>12</th>\n      <td>9084</td>\n    </tr>\n  </tbody>\n</table>\n<p>384 rows × 1 columns</p>\n</div>"
     },
     "metadata": {}
    },
    {
     "output_type": "display_data",
     "data": {
      "text/plain": "                                                                       Numero de visitas  \\\nEstado         Mes Centro de trabajo                                                       \nAguascalientes 1   Museo Regional de Historia de Aguascalientes                     1776   \n               2   Museo Regional de Historia de Aguascalientes                     1978   \n               3   Museo Regional de Historia de Aguascalientes                     2287   \n               4   Museo Regional de Historia de Aguascalientes                     3777   \n               5   Museo Regional de Historia de Aguascalientes                     2469   \n...                                                                                  ...   \nZacatecas      12  Museo de Guadalupe                                               3081   \n                   Z.A. Cerro de las Ventanas                                        827   \n                   Z.A. Cerro del Te�l                                               940   \n                   Z.A. de Altavista o Chalchihuites con museo de ...                418   \n                   Z.A. de La Quemada con museo de sitio                            3818   \n\n                                                                       Numero de visitas_total  \nEstado         Mes Centro de trabajo                                                            \nAguascalientes 1   Museo Regional de Historia de Aguascalientes                           1776  \n               2   Museo Regional de Historia de Aguascalientes                           1978  \n               3   Museo Regional de Historia de Aguascalientes                           2287  \n               4   Museo Regional de Historia de Aguascalientes                           3777  \n               5   Museo Regional de Historia de Aguascalientes                           2469  \n...                                                                                        ...  \nZacatecas      12  Museo de Guadalupe                                                     9084  \n                   Z.A. Cerro de las Ventanas                                             9084  \n                   Z.A. Cerro del Te�l                                                    9084  \n                   Z.A. de Altavista o Chalchihuites con museo de ...                     9084  \n                   Z.A. de La Quemada con museo de sitio                                  9084  \n\n[3283 rows x 2 columns]",
      "text/html": "<div>\n<style scoped>\n    .dataframe tbody tr th:only-of-type {\n        vertical-align: middle;\n    }\n\n    .dataframe tbody tr th {\n        vertical-align: top;\n    }\n\n    .dataframe thead th {\n        text-align: right;\n    }\n</style>\n<table border=\"1\" class=\"dataframe\">\n  <thead>\n    <tr style=\"text-align: right;\">\n      <th></th>\n      <th></th>\n      <th></th>\n      <th>Numero de visitas</th>\n      <th>Numero de visitas_total</th>\n    </tr>\n    <tr>\n      <th>Estado</th>\n      <th>Mes</th>\n      <th>Centro de trabajo</th>\n      <th></th>\n      <th></th>\n    </tr>\n  </thead>\n  <tbody>\n    <tr>\n      <th rowspan=\"5\" valign=\"top\">Aguascalientes</th>\n      <th>1</th>\n      <th>Museo Regional de Historia de Aguascalientes</th>\n      <td>1776</td>\n      <td>1776</td>\n    </tr>\n    <tr>\n      <th>2</th>\n      <th>Museo Regional de Historia de Aguascalientes</th>\n      <td>1978</td>\n      <td>1978</td>\n    </tr>\n    <tr>\n      <th>3</th>\n      <th>Museo Regional de Historia de Aguascalientes</th>\n      <td>2287</td>\n      <td>2287</td>\n    </tr>\n    <tr>\n      <th>4</th>\n      <th>Museo Regional de Historia de Aguascalientes</th>\n      <td>3777</td>\n      <td>3777</td>\n    </tr>\n    <tr>\n      <th>5</th>\n      <th>Museo Regional de Historia de Aguascalientes</th>\n      <td>2469</td>\n      <td>2469</td>\n    </tr>\n    <tr>\n      <th>...</th>\n      <th>...</th>\n      <th>...</th>\n      <td>...</td>\n      <td>...</td>\n    </tr>\n    <tr>\n      <th rowspan=\"5\" valign=\"top\">Zacatecas</th>\n      <th rowspan=\"5\" valign=\"top\">12</th>\n      <th>Museo de Guadalupe</th>\n      <td>3081</td>\n      <td>9084</td>\n    </tr>\n    <tr>\n      <th>Z.A. Cerro de las Ventanas</th>\n      <td>827</td>\n      <td>9084</td>\n    </tr>\n    <tr>\n      <th>Z.A. Cerro del Te�l</th>\n      <td>940</td>\n      <td>9084</td>\n    </tr>\n    <tr>\n      <th>Z.A. de Altavista o Chalchihuites con museo de sitio</th>\n      <td>418</td>\n      <td>9084</td>\n    </tr>\n    <tr>\n      <th>Z.A. de La Quemada con museo de sitio</th>\n      <td>3818</td>\n      <td>9084</td>\n    </tr>\n  </tbody>\n</table>\n<p>3283 rows × 2 columns</p>\n</div>"
     },
     "metadata": {}
    },
    {
     "output_type": "display_data",
     "data": {
      "text/plain": "                                                                       Numero de visitas  \\\nEstado         Mes Centro de trabajo                                                       \nAguascalientes 1   Museo Regional de Historia de Aguascalientes                     1776   \n               2   Museo Regional de Historia de Aguascalientes                     1978   \n               3   Museo Regional de Historia de Aguascalientes                     2287   \n               4   Museo Regional de Historia de Aguascalientes                     3777   \n               5   Museo Regional de Historia de Aguascalientes                     2469   \n...                                                                                  ...   \nZacatecas      12  Museo de Guadalupe                                               3081   \n                   Z.A. Cerro de las Ventanas                                        827   \n                   Z.A. Cerro del Te�l                                               940   \n                   Z.A. de Altavista o Chalchihuites con museo de ...                418   \n                   Z.A. de La Quemada con museo de sitio                            3818   \n\n                                                                       Numero de visitas_total  \\\nEstado         Mes Centro de trabajo                                                             \nAguascalientes 1   Museo Regional de Historia de Aguascalientes                           1776   \n               2   Museo Regional de Historia de Aguascalientes                           1978   \n               3   Museo Regional de Historia de Aguascalientes                           2287   \n               4   Museo Regional de Historia de Aguascalientes                           3777   \n               5   Museo Regional de Historia de Aguascalientes                           2469   \n...                                                                                        ...   \nZacatecas      12  Museo de Guadalupe                                                     9084   \n                   Z.A. Cerro de las Ventanas                                             9084   \n                   Z.A. Cerro del Te�l                                                    9084   \n                   Z.A. de Altavista o Chalchihuites con museo de ...                     9084   \n                   Z.A. de La Quemada con museo de sitio                                  9084   \n\n                                                                       percentage  \nEstado         Mes Centro de trabajo                                               \nAguascalientes 1   Museo Regional de Historia de Aguascalientes        100.000000  \n               2   Museo Regional de Historia de Aguascalientes        100.000000  \n               3   Museo Regional de Historia de Aguascalientes        100.000000  \n               4   Museo Regional de Historia de Aguascalientes        100.000000  \n               5   Museo Regional de Historia de Aguascalientes        100.000000  \n...                                                                           ...  \nZacatecas      12  Museo de Guadalupe                                   33.916777  \n                   Z.A. Cerro de las Ventanas                            9.103919  \n                   Z.A. Cerro del Te�l                                  10.347864  \n                   Z.A. de Altavista o Chalchihuites con museo de ...    4.601497  \n                   Z.A. de La Quemada con museo de sitio                42.029943  \n\n[3283 rows x 3 columns]",
      "text/html": "<div>\n<style scoped>\n    .dataframe tbody tr th:only-of-type {\n        vertical-align: middle;\n    }\n\n    .dataframe tbody tr th {\n        vertical-align: top;\n    }\n\n    .dataframe thead th {\n        text-align: right;\n    }\n</style>\n<table border=\"1\" class=\"dataframe\">\n  <thead>\n    <tr style=\"text-align: right;\">\n      <th></th>\n      <th></th>\n      <th></th>\n      <th>Numero de visitas</th>\n      <th>Numero de visitas_total</th>\n      <th>percentage</th>\n    </tr>\n    <tr>\n      <th>Estado</th>\n      <th>Mes</th>\n      <th>Centro de trabajo</th>\n      <th></th>\n      <th></th>\n      <th></th>\n    </tr>\n  </thead>\n  <tbody>\n    <tr>\n      <th rowspan=\"5\" valign=\"top\">Aguascalientes</th>\n      <th>1</th>\n      <th>Museo Regional de Historia de Aguascalientes</th>\n      <td>1776</td>\n      <td>1776</td>\n      <td>100.000000</td>\n    </tr>\n    <tr>\n      <th>2</th>\n      <th>Museo Regional de Historia de Aguascalientes</th>\n      <td>1978</td>\n      <td>1978</td>\n      <td>100.000000</td>\n    </tr>\n    <tr>\n      <th>3</th>\n      <th>Museo Regional de Historia de Aguascalientes</th>\n      <td>2287</td>\n      <td>2287</td>\n      <td>100.000000</td>\n    </tr>\n    <tr>\n      <th>4</th>\n      <th>Museo Regional de Historia de Aguascalientes</th>\n      <td>3777</td>\n      <td>3777</td>\n      <td>100.000000</td>\n    </tr>\n    <tr>\n      <th>5</th>\n      <th>Museo Regional de Historia de Aguascalientes</th>\n      <td>2469</td>\n      <td>2469</td>\n      <td>100.000000</td>\n    </tr>\n    <tr>\n      <th>...</th>\n      <th>...</th>\n      <th>...</th>\n      <td>...</td>\n      <td>...</td>\n      <td>...</td>\n    </tr>\n    <tr>\n      <th rowspan=\"5\" valign=\"top\">Zacatecas</th>\n      <th rowspan=\"5\" valign=\"top\">12</th>\n      <th>Museo de Guadalupe</th>\n      <td>3081</td>\n      <td>9084</td>\n      <td>33.916777</td>\n    </tr>\n    <tr>\n      <th>Z.A. Cerro de las Ventanas</th>\n      <td>827</td>\n      <td>9084</td>\n      <td>9.103919</td>\n    </tr>\n    <tr>\n      <th>Z.A. Cerro del Te�l</th>\n      <td>940</td>\n      <td>9084</td>\n      <td>10.347864</td>\n    </tr>\n    <tr>\n      <th>Z.A. de Altavista o Chalchihuites con museo de sitio</th>\n      <td>418</td>\n      <td>9084</td>\n      <td>4.601497</td>\n    </tr>\n    <tr>\n      <th>Z.A. de La Quemada con museo de sitio</th>\n      <td>3818</td>\n      <td>9084</td>\n      <td>42.029943</td>\n    </tr>\n  </tbody>\n</table>\n<p>3283 rows × 3 columns</p>\n</div>"
     },
     "metadata": {}
    }
   ],
   "source": [
    "# - Porcentaje de visitantes por Recinto en visitantes por estado (total por mes).\n",
    "group_base = ['Estado', 'Mes']\n",
    "workcenters_visits_by_month = df.groupby(group_base + ['Centro de trabajo']).sum()\n",
    "display(workcenters_visits_by_month)\n",
    "\n",
    "visits_by_state = df.groupby(group_base).sum()\n",
    "display(visits_by_state)\n",
    "\n",
    "workcenter_vs_total_state_date = workcenters_visits_by_month.join(visits_by_state, on=group_base, rsuffix='_total')\n",
    "display(workcenter_vs_total_state_date)\n",
    "\n",
    "workcenter_vs_total_state_date['percentage'] = workcenter_vs_total_state_date['Numero de visitas']*100 / workcenter_vs_total_state_date['Numero de visitas_total']\n",
    "display(workcenter_vs_total_state_date)"
   ]
  },
  {
   "cell_type": "code",
   "execution_count": 22,
   "metadata": {},
   "outputs": [
    {
     "output_type": "display_data",
     "data": {
      "text/plain": "                                                      Numero de visitas\nAno  Mes Tipo de visitantes                                            \n2019 1   Boleto pagado                                          1076841\n         Discapacitados                                            2621\n         Entrada dominical                                       760989\n         Entrada sin costo                                       139765\n         Estudiantes nivel b�sico                                256738\n...                                                                 ...\n     12  Estudiantes nivel superior                              176908\n         Exposiciones temporales con costo adicional                  0\n         Profesores                                               71307\n         Tercera edad, pensionados y jubilados                    94136\n         Trabajadores INAH                                         2140\n\n[120 rows x 1 columns]",
      "text/html": "<div>\n<style scoped>\n    .dataframe tbody tr th:only-of-type {\n        vertical-align: middle;\n    }\n\n    .dataframe tbody tr th {\n        vertical-align: top;\n    }\n\n    .dataframe thead th {\n        text-align: right;\n    }\n</style>\n<table border=\"1\" class=\"dataframe\">\n  <thead>\n    <tr style=\"text-align: right;\">\n      <th></th>\n      <th></th>\n      <th></th>\n      <th>Numero de visitas</th>\n    </tr>\n    <tr>\n      <th>Ano</th>\n      <th>Mes</th>\n      <th>Tipo de visitantes</th>\n      <th></th>\n    </tr>\n  </thead>\n  <tbody>\n    <tr>\n      <th rowspan=\"11\" valign=\"top\">2019</th>\n      <th rowspan=\"5\" valign=\"top\">1</th>\n      <th>Boleto pagado</th>\n      <td>1076841</td>\n    </tr>\n    <tr>\n      <th>Discapacitados</th>\n      <td>2621</td>\n    </tr>\n    <tr>\n      <th>Entrada dominical</th>\n      <td>760989</td>\n    </tr>\n    <tr>\n      <th>Entrada sin costo</th>\n      <td>139765</td>\n    </tr>\n    <tr>\n      <th>Estudiantes nivel b�sico</th>\n      <td>256738</td>\n    </tr>\n    <tr>\n      <th>...</th>\n      <th>...</th>\n      <td>...</td>\n    </tr>\n    <tr>\n      <th rowspan=\"5\" valign=\"top\">12</th>\n      <th>Estudiantes nivel superior</th>\n      <td>176908</td>\n    </tr>\n    <tr>\n      <th>Exposiciones temporales con costo adicional</th>\n      <td>0</td>\n    </tr>\n    <tr>\n      <th>Profesores</th>\n      <td>71307</td>\n    </tr>\n    <tr>\n      <th>Tercera edad, pensionados y jubilados</th>\n      <td>94136</td>\n    </tr>\n    <tr>\n      <th>Trabajadores INAH</th>\n      <td>2140</td>\n    </tr>\n  </tbody>\n</table>\n<p>120 rows × 1 columns</p>\n</div>"
     },
     "metadata": {}
    },
    {
     "output_type": "display_data",
     "data": {
      "text/plain": "          Numero de visitas\nAno  Mes                   \n2019 1              2648084\n     2              2159893\n     3              2504270\n     4              3090515\n     5              1796285\n     6              1751261\n     7              2470222\n     8              2155550\n     9              1878389\n     10             2190094\n     11             2459188\n     12             2352831",
      "text/html": "<div>\n<style scoped>\n    .dataframe tbody tr th:only-of-type {\n        vertical-align: middle;\n    }\n\n    .dataframe tbody tr th {\n        vertical-align: top;\n    }\n\n    .dataframe thead th {\n        text-align: right;\n    }\n</style>\n<table border=\"1\" class=\"dataframe\">\n  <thead>\n    <tr style=\"text-align: right;\">\n      <th></th>\n      <th></th>\n      <th>Numero de visitas</th>\n    </tr>\n    <tr>\n      <th>Ano</th>\n      <th>Mes</th>\n      <th></th>\n    </tr>\n  </thead>\n  <tbody>\n    <tr>\n      <th rowspan=\"12\" valign=\"top\">2019</th>\n      <th>1</th>\n      <td>2648084</td>\n    </tr>\n    <tr>\n      <th>2</th>\n      <td>2159893</td>\n    </tr>\n    <tr>\n      <th>3</th>\n      <td>2504270</td>\n    </tr>\n    <tr>\n      <th>4</th>\n      <td>3090515</td>\n    </tr>\n    <tr>\n      <th>5</th>\n      <td>1796285</td>\n    </tr>\n    <tr>\n      <th>6</th>\n      <td>1751261</td>\n    </tr>\n    <tr>\n      <th>7</th>\n      <td>2470222</td>\n    </tr>\n    <tr>\n      <th>8</th>\n      <td>2155550</td>\n    </tr>\n    <tr>\n      <th>9</th>\n      <td>1878389</td>\n    </tr>\n    <tr>\n      <th>10</th>\n      <td>2190094</td>\n    </tr>\n    <tr>\n      <th>11</th>\n      <td>2459188</td>\n    </tr>\n    <tr>\n      <th>12</th>\n      <td>2352831</td>\n    </tr>\n  </tbody>\n</table>\n</div>"
     },
     "metadata": {}
    },
    {
     "output_type": "display_data",
     "data": {
      "text/plain": "                                                      Numero de visitas  \\\nAno  Mes Tipo de visitantes                                               \n2019 1   Boleto pagado                                          1076841   \n         Discapacitados                                            2621   \n         Entrada dominical                                       760989   \n         Entrada sin costo                                       139765   \n         Estudiantes nivel b�sico                                256738   \n...                                                                 ...   \n     12  Estudiantes nivel superior                              176908   \n         Exposiciones temporales con costo adicional                  0   \n         Profesores                                               71307   \n         Tercera edad, pensionados y jubilados                    94136   \n         Trabajadores INAH                                         2140   \n\n                                                      Numero de visitas_total  \nAno  Mes Tipo de visitantes                                                    \n2019 1   Boleto pagado                                                2648084  \n         Discapacitados                                               2648084  \n         Entrada dominical                                            2648084  \n         Entrada sin costo                                            2648084  \n         Estudiantes nivel b�sico                                     2648084  \n...                                                                       ...  \n     12  Estudiantes nivel superior                                   2352831  \n         Exposiciones temporales con costo adicional                  2352831  \n         Profesores                                                   2352831  \n         Tercera edad, pensionados y jubilados                        2352831  \n         Trabajadores INAH                                            2352831  \n\n[120 rows x 2 columns]",
      "text/html": "<div>\n<style scoped>\n    .dataframe tbody tr th:only-of-type {\n        vertical-align: middle;\n    }\n\n    .dataframe tbody tr th {\n        vertical-align: top;\n    }\n\n    .dataframe thead th {\n        text-align: right;\n    }\n</style>\n<table border=\"1\" class=\"dataframe\">\n  <thead>\n    <tr style=\"text-align: right;\">\n      <th></th>\n      <th></th>\n      <th></th>\n      <th>Numero de visitas</th>\n      <th>Numero de visitas_total</th>\n    </tr>\n    <tr>\n      <th>Ano</th>\n      <th>Mes</th>\n      <th>Tipo de visitantes</th>\n      <th></th>\n      <th></th>\n    </tr>\n  </thead>\n  <tbody>\n    <tr>\n      <th rowspan=\"11\" valign=\"top\">2019</th>\n      <th rowspan=\"5\" valign=\"top\">1</th>\n      <th>Boleto pagado</th>\n      <td>1076841</td>\n      <td>2648084</td>\n    </tr>\n    <tr>\n      <th>Discapacitados</th>\n      <td>2621</td>\n      <td>2648084</td>\n    </tr>\n    <tr>\n      <th>Entrada dominical</th>\n      <td>760989</td>\n      <td>2648084</td>\n    </tr>\n    <tr>\n      <th>Entrada sin costo</th>\n      <td>139765</td>\n      <td>2648084</td>\n    </tr>\n    <tr>\n      <th>Estudiantes nivel b�sico</th>\n      <td>256738</td>\n      <td>2648084</td>\n    </tr>\n    <tr>\n      <th>...</th>\n      <th>...</th>\n      <td>...</td>\n      <td>...</td>\n    </tr>\n    <tr>\n      <th rowspan=\"5\" valign=\"top\">12</th>\n      <th>Estudiantes nivel superior</th>\n      <td>176908</td>\n      <td>2352831</td>\n    </tr>\n    <tr>\n      <th>Exposiciones temporales con costo adicional</th>\n      <td>0</td>\n      <td>2352831</td>\n    </tr>\n    <tr>\n      <th>Profesores</th>\n      <td>71307</td>\n      <td>2352831</td>\n    </tr>\n    <tr>\n      <th>Tercera edad, pensionados y jubilados</th>\n      <td>94136</td>\n      <td>2352831</td>\n    </tr>\n    <tr>\n      <th>Trabajadores INAH</th>\n      <td>2140</td>\n      <td>2352831</td>\n    </tr>\n  </tbody>\n</table>\n<p>120 rows × 2 columns</p>\n</div>"
     },
     "metadata": {}
    },
    {
     "output_type": "display_data",
     "data": {
      "text/plain": "                                                      Numero de visitas  \\\nAno  Mes Tipo de visitantes                                               \n2019 1   Boleto pagado                                          1076841   \n         Discapacitados                                            2621   \n         Entrada dominical                                       760989   \n         Entrada sin costo                                       139765   \n         Estudiantes nivel b�sico                                256738   \n...                                                                 ...   \n     12  Estudiantes nivel superior                              176908   \n         Exposiciones temporales con costo adicional                  0   \n         Profesores                                               71307   \n         Tercera edad, pensionados y jubilados                    94136   \n         Trabajadores INAH                                         2140   \n\n                                                      Numero de visitas_total  \\\nAno  Mes Tipo de visitantes                                                     \n2019 1   Boleto pagado                                                2648084   \n         Discapacitados                                               2648084   \n         Entrada dominical                                            2648084   \n         Entrada sin costo                                            2648084   \n         Estudiantes nivel b�sico                                     2648084   \n...                                                                       ...   \n     12  Estudiantes nivel superior                                   2352831   \n         Exposiciones temporales con costo adicional                  2352831   \n         Profesores                                                   2352831   \n         Tercera edad, pensionados y jubilados                        2352831   \n         Trabajadores INAH                                            2352831   \n\n                                                      percetage  \nAno  Mes Tipo de visitantes                                      \n2019 1   Boleto pagado                                40.664911  \n         Discapacitados                                0.098977  \n         Entrada dominical                            28.737344  \n         Entrada sin costo                             5.277967  \n         Estudiantes nivel b�sico                      9.695236  \n...                                                         ...  \n     12  Estudiantes nivel superior                    7.518942  \n         Exposiciones temporales con costo adicional   0.000000  \n         Profesores                                    3.030689  \n         Tercera edad, pensionados y jubilados         4.000967  \n         Trabajadores INAH                             0.090954  \n\n[120 rows x 3 columns]",
      "text/html": "<div>\n<style scoped>\n    .dataframe tbody tr th:only-of-type {\n        vertical-align: middle;\n    }\n\n    .dataframe tbody tr th {\n        vertical-align: top;\n    }\n\n    .dataframe thead th {\n        text-align: right;\n    }\n</style>\n<table border=\"1\" class=\"dataframe\">\n  <thead>\n    <tr style=\"text-align: right;\">\n      <th></th>\n      <th></th>\n      <th></th>\n      <th>Numero de visitas</th>\n      <th>Numero de visitas_total</th>\n      <th>percetage</th>\n    </tr>\n    <tr>\n      <th>Ano</th>\n      <th>Mes</th>\n      <th>Tipo de visitantes</th>\n      <th></th>\n      <th></th>\n      <th></th>\n    </tr>\n  </thead>\n  <tbody>\n    <tr>\n      <th rowspan=\"11\" valign=\"top\">2019</th>\n      <th rowspan=\"5\" valign=\"top\">1</th>\n      <th>Boleto pagado</th>\n      <td>1076841</td>\n      <td>2648084</td>\n      <td>40.664911</td>\n    </tr>\n    <tr>\n      <th>Discapacitados</th>\n      <td>2621</td>\n      <td>2648084</td>\n      <td>0.098977</td>\n    </tr>\n    <tr>\n      <th>Entrada dominical</th>\n      <td>760989</td>\n      <td>2648084</td>\n      <td>28.737344</td>\n    </tr>\n    <tr>\n      <th>Entrada sin costo</th>\n      <td>139765</td>\n      <td>2648084</td>\n      <td>5.277967</td>\n    </tr>\n    <tr>\n      <th>Estudiantes nivel b�sico</th>\n      <td>256738</td>\n      <td>2648084</td>\n      <td>9.695236</td>\n    </tr>\n    <tr>\n      <th>...</th>\n      <th>...</th>\n      <td>...</td>\n      <td>...</td>\n      <td>...</td>\n    </tr>\n    <tr>\n      <th rowspan=\"5\" valign=\"top\">12</th>\n      <th>Estudiantes nivel superior</th>\n      <td>176908</td>\n      <td>2352831</td>\n      <td>7.518942</td>\n    </tr>\n    <tr>\n      <th>Exposiciones temporales con costo adicional</th>\n      <td>0</td>\n      <td>2352831</td>\n      <td>0.000000</td>\n    </tr>\n    <tr>\n      <th>Profesores</th>\n      <td>71307</td>\n      <td>2352831</td>\n      <td>3.030689</td>\n    </tr>\n    <tr>\n      <th>Tercera edad, pensionados y jubilados</th>\n      <td>94136</td>\n      <td>2352831</td>\n      <td>4.000967</td>\n    </tr>\n    <tr>\n      <th>Trabajadores INAH</th>\n      <td>2140</td>\n      <td>2352831</td>\n      <td>0.090954</td>\n    </tr>\n  </tbody>\n</table>\n<p>120 rows × 3 columns</p>\n</div>"
     },
     "metadata": {}
    }
   ],
   "source": [
    "# - Porcentaje de tipo de visitantes por mes y año\n",
    "group_base = ['Ano', 'Mes']\n",
    "\n",
    "visits_type_by_date = df.groupby(group_base + ['Tipo de visitantes']).sum()\n",
    "display(visits_type_by_date)\n",
    "\n",
    "visits_by_date = df.groupby(group_base).sum()\n",
    "display(visits_by_date)\n",
    "\n",
    "visits_type_vs_visit_date = visits_type_by_date.join(visits_by_date, on=group_base, rsuffix='_total')\n",
    "display(visits_type_vs_visit_date)\n",
    "\n",
    "visits_type_vs_visit_date['percetage'] = visits_type_vs_visit_date['Numero de visitas']*100 / visits_type_vs_visit_date['Numero de visitas_total']\n",
    "display(visits_type_vs_visit_date)\n"
   ]
  },
  {
   "cell_type": "code",
   "execution_count": 27,
   "metadata": {},
   "outputs": [
    {
     "output_type": "display_data",
     "data": {
      "text/plain": "                                                                                     Numero de visitas\nCentro de trabajo              Ano  Mes Tipo de visitantes                                            \nCapilla Abierta de Tlalmanalco 2019 1   Boleto pagado                                               12\n                                        Discapacitados                                               4\n                                        Entrada dominical                                          322\n                                        Entrada sin costo                                          580\n                                        Estudiantes nivel b�sico                                    48\n...                                                                                                ...\nZ.A. de Zaachila               2019 12  Estudiantes nivel superior                                  23\n                                        Exposiciones temporales con costo adicional                  0\n                                        Profesores                                                   8\n                                        Tercera edad, pensionados y jubilados                       19\n                                        Trabajadores INAH                                           13\n\n[32830 rows x 1 columns]",
      "text/html": "<div>\n<style scoped>\n    .dataframe tbody tr th:only-of-type {\n        vertical-align: middle;\n    }\n\n    .dataframe tbody tr th {\n        vertical-align: top;\n    }\n\n    .dataframe thead th {\n        text-align: right;\n    }\n</style>\n<table border=\"1\" class=\"dataframe\">\n  <thead>\n    <tr style=\"text-align: right;\">\n      <th></th>\n      <th></th>\n      <th></th>\n      <th></th>\n      <th>Numero de visitas</th>\n    </tr>\n    <tr>\n      <th>Centro de trabajo</th>\n      <th>Ano</th>\n      <th>Mes</th>\n      <th>Tipo de visitantes</th>\n      <th></th>\n    </tr>\n  </thead>\n  <tbody>\n    <tr>\n      <th rowspan=\"5\" valign=\"top\">Capilla Abierta de Tlalmanalco</th>\n      <th rowspan=\"5\" valign=\"top\">2019</th>\n      <th rowspan=\"5\" valign=\"top\">1</th>\n      <th>Boleto pagado</th>\n      <td>12</td>\n    </tr>\n    <tr>\n      <th>Discapacitados</th>\n      <td>4</td>\n    </tr>\n    <tr>\n      <th>Entrada dominical</th>\n      <td>322</td>\n    </tr>\n    <tr>\n      <th>Entrada sin costo</th>\n      <td>580</td>\n    </tr>\n    <tr>\n      <th>Estudiantes nivel b�sico</th>\n      <td>48</td>\n    </tr>\n    <tr>\n      <th>...</th>\n      <th>...</th>\n      <th>...</th>\n      <th>...</th>\n      <td>...</td>\n    </tr>\n    <tr>\n      <th rowspan=\"5\" valign=\"top\">Z.A. de Zaachila</th>\n      <th rowspan=\"5\" valign=\"top\">2019</th>\n      <th rowspan=\"5\" valign=\"top\">12</th>\n      <th>Estudiantes nivel superior</th>\n      <td>23</td>\n    </tr>\n    <tr>\n      <th>Exposiciones temporales con costo adicional</th>\n      <td>0</td>\n    </tr>\n    <tr>\n      <th>Profesores</th>\n      <td>8</td>\n    </tr>\n    <tr>\n      <th>Tercera edad, pensionados y jubilados</th>\n      <td>19</td>\n    </tr>\n    <tr>\n      <th>Trabajadores INAH</th>\n      <td>13</td>\n    </tr>\n  </tbody>\n</table>\n<p>32830 rows × 1 columns</p>\n</div>"
     },
     "metadata": {}
    },
    {
     "output_type": "display_data",
     "data": {
      "text/plain": "                                         Numero de visitas\nCentro de trabajo              Ano  Mes                   \nCapilla Abierta de Tlalmanalco 2019 1                 1172\n                                    2                 1382\n                                    3                 1298\n                                    4                 1268\n                                    5                  614\n...                                                    ...\nZ.A. de Zaachila               2019 8                  371\n                                    9                  182\n                                    10                 267\n                                    11                 303\n                                    12                 569\n\n[3283 rows x 1 columns]",
      "text/html": "<div>\n<style scoped>\n    .dataframe tbody tr th:only-of-type {\n        vertical-align: middle;\n    }\n\n    .dataframe tbody tr th {\n        vertical-align: top;\n    }\n\n    .dataframe thead th {\n        text-align: right;\n    }\n</style>\n<table border=\"1\" class=\"dataframe\">\n  <thead>\n    <tr style=\"text-align: right;\">\n      <th></th>\n      <th></th>\n      <th></th>\n      <th>Numero de visitas</th>\n    </tr>\n    <tr>\n      <th>Centro de trabajo</th>\n      <th>Ano</th>\n      <th>Mes</th>\n      <th></th>\n    </tr>\n  </thead>\n  <tbody>\n    <tr>\n      <th rowspan=\"5\" valign=\"top\">Capilla Abierta de Tlalmanalco</th>\n      <th rowspan=\"5\" valign=\"top\">2019</th>\n      <th>1</th>\n      <td>1172</td>\n    </tr>\n    <tr>\n      <th>2</th>\n      <td>1382</td>\n    </tr>\n    <tr>\n      <th>3</th>\n      <td>1298</td>\n    </tr>\n    <tr>\n      <th>4</th>\n      <td>1268</td>\n    </tr>\n    <tr>\n      <th>5</th>\n      <td>614</td>\n    </tr>\n    <tr>\n      <th>...</th>\n      <th>...</th>\n      <th>...</th>\n      <td>...</td>\n    </tr>\n    <tr>\n      <th rowspan=\"5\" valign=\"top\">Z.A. de Zaachila</th>\n      <th rowspan=\"5\" valign=\"top\">2019</th>\n      <th>8</th>\n      <td>371</td>\n    </tr>\n    <tr>\n      <th>9</th>\n      <td>182</td>\n    </tr>\n    <tr>\n      <th>10</th>\n      <td>267</td>\n    </tr>\n    <tr>\n      <th>11</th>\n      <td>303</td>\n    </tr>\n    <tr>\n      <th>12</th>\n      <td>569</td>\n    </tr>\n  </tbody>\n</table>\n<p>3283 rows × 1 columns</p>\n</div>"
     },
     "metadata": {}
    },
    {
     "output_type": "display_data",
     "data": {
      "text/plain": "                                                                                     Numero de visitas  \\\nCentro de trabajo              Ano  Mes Tipo de visitantes                                               \nCapilla Abierta de Tlalmanalco 2019 1   Boleto pagado                                               12   \n                                        Discapacitados                                               4   \n                                        Entrada dominical                                          322   \n                                        Entrada sin costo                                          580   \n                                        Estudiantes nivel b�sico                                    48   \n...                                                                                                ...   \nZ.A. de Zaachila               2019 12  Estudiantes nivel superior                                  23   \n                                        Exposiciones temporales con costo adicional                  0   \n                                        Profesores                                                   8   \n                                        Tercera edad, pensionados y jubilados                       19   \n                                        Trabajadores INAH                                           13   \n\n                                                                                     Numero de visitas_total  \nCentro de trabajo              Ano  Mes Tipo de visitantes                                                    \nCapilla Abierta de Tlalmanalco 2019 1   Boleto pagado                                                   1172  \n                                        Discapacitados                                                  1172  \n                                        Entrada dominical                                               1172  \n                                        Entrada sin costo                                               1172  \n                                        Estudiantes nivel b�sico                                        1172  \n...                                                                                                      ...  \nZ.A. de Zaachila               2019 12  Estudiantes nivel superior                                       569  \n                                        Exposiciones temporales con costo adicional                      569  \n                                        Profesores                                                       569  \n                                        Tercera edad, pensionados y jubilados                            569  \n                                        Trabajadores INAH                                                569  \n\n[32830 rows x 2 columns]",
      "text/html": "<div>\n<style scoped>\n    .dataframe tbody tr th:only-of-type {\n        vertical-align: middle;\n    }\n\n    .dataframe tbody tr th {\n        vertical-align: top;\n    }\n\n    .dataframe thead th {\n        text-align: right;\n    }\n</style>\n<table border=\"1\" class=\"dataframe\">\n  <thead>\n    <tr style=\"text-align: right;\">\n      <th></th>\n      <th></th>\n      <th></th>\n      <th></th>\n      <th>Numero de visitas</th>\n      <th>Numero de visitas_total</th>\n    </tr>\n    <tr>\n      <th>Centro de trabajo</th>\n      <th>Ano</th>\n      <th>Mes</th>\n      <th>Tipo de visitantes</th>\n      <th></th>\n      <th></th>\n    </tr>\n  </thead>\n  <tbody>\n    <tr>\n      <th rowspan=\"5\" valign=\"top\">Capilla Abierta de Tlalmanalco</th>\n      <th rowspan=\"5\" valign=\"top\">2019</th>\n      <th rowspan=\"5\" valign=\"top\">1</th>\n      <th>Boleto pagado</th>\n      <td>12</td>\n      <td>1172</td>\n    </tr>\n    <tr>\n      <th>Discapacitados</th>\n      <td>4</td>\n      <td>1172</td>\n    </tr>\n    <tr>\n      <th>Entrada dominical</th>\n      <td>322</td>\n      <td>1172</td>\n    </tr>\n    <tr>\n      <th>Entrada sin costo</th>\n      <td>580</td>\n      <td>1172</td>\n    </tr>\n    <tr>\n      <th>Estudiantes nivel b�sico</th>\n      <td>48</td>\n      <td>1172</td>\n    </tr>\n    <tr>\n      <th>...</th>\n      <th>...</th>\n      <th>...</th>\n      <th>...</th>\n      <td>...</td>\n      <td>...</td>\n    </tr>\n    <tr>\n      <th rowspan=\"5\" valign=\"top\">Z.A. de Zaachila</th>\n      <th rowspan=\"5\" valign=\"top\">2019</th>\n      <th rowspan=\"5\" valign=\"top\">12</th>\n      <th>Estudiantes nivel superior</th>\n      <td>23</td>\n      <td>569</td>\n    </tr>\n    <tr>\n      <th>Exposiciones temporales con costo adicional</th>\n      <td>0</td>\n      <td>569</td>\n    </tr>\n    <tr>\n      <th>Profesores</th>\n      <td>8</td>\n      <td>569</td>\n    </tr>\n    <tr>\n      <th>Tercera edad, pensionados y jubilados</th>\n      <td>19</td>\n      <td>569</td>\n    </tr>\n    <tr>\n      <th>Trabajadores INAH</th>\n      <td>13</td>\n      <td>569</td>\n    </tr>\n  </tbody>\n</table>\n<p>32830 rows × 2 columns</p>\n</div>"
     },
     "metadata": {}
    },
    {
     "output_type": "display_data",
     "data": {
      "text/plain": "                                                                                     Numero de visitas  \\\nCentro de trabajo              Ano  Mes Tipo de visitantes                                               \nCapilla Abierta de Tlalmanalco 2019 1   Boleto pagado                                               12   \n                                        Discapacitados                                               4   \n                                        Entrada dominical                                          322   \n                                        Entrada sin costo                                          580   \n                                        Estudiantes nivel b�sico                                    48   \n...                                                                                                ...   \nZ.A. de Zaachila               2019 12  Estudiantes nivel superior                                  23   \n                                        Exposiciones temporales con costo adicional                  0   \n                                        Profesores                                                   8   \n                                        Tercera edad, pensionados y jubilados                       19   \n                                        Trabajadores INAH                                           13   \n\n                                                                                     Numero de visitas_total  \\\nCentro de trabajo              Ano  Mes Tipo de visitantes                                                     \nCapilla Abierta de Tlalmanalco 2019 1   Boleto pagado                                                   1172   \n                                        Discapacitados                                                  1172   \n                                        Entrada dominical                                               1172   \n                                        Entrada sin costo                                               1172   \n                                        Estudiantes nivel b�sico                                        1172   \n...                                                                                                      ...   \nZ.A. de Zaachila               2019 12  Estudiantes nivel superior                                       569   \n                                        Exposiciones temporales con costo adicional                      569   \n                                        Profesores                                                       569   \n                                        Tercera edad, pensionados y jubilados                            569   \n                                        Trabajadores INAH                                                569   \n\n                                                                                     percentage  \nCentro de trabajo              Ano  Mes Tipo de visitantes                                       \nCapilla Abierta de Tlalmanalco 2019 1   Boleto pagado                                  1.023891  \n                                        Discapacitados                                 0.341297  \n                                        Entrada dominical                             27.474403  \n                                        Entrada sin costo                             49.488055  \n                                        Estudiantes nivel b�sico                       4.095563  \n...                                                                                         ...  \nZ.A. de Zaachila               2019 12  Estudiantes nivel superior                     4.042179  \n                                        Exposiciones temporales con costo adicional    0.000000  \n                                        Profesores                                     1.405975  \n                                        Tercera edad, pensionados y jubilados          3.339192  \n                                        Trabajadores INAH                              2.284710  \n\n[32830 rows x 3 columns]",
      "text/html": "<div>\n<style scoped>\n    .dataframe tbody tr th:only-of-type {\n        vertical-align: middle;\n    }\n\n    .dataframe tbody tr th {\n        vertical-align: top;\n    }\n\n    .dataframe thead th {\n        text-align: right;\n    }\n</style>\n<table border=\"1\" class=\"dataframe\">\n  <thead>\n    <tr style=\"text-align: right;\">\n      <th></th>\n      <th></th>\n      <th></th>\n      <th></th>\n      <th>Numero de visitas</th>\n      <th>Numero de visitas_total</th>\n      <th>percentage</th>\n    </tr>\n    <tr>\n      <th>Centro de trabajo</th>\n      <th>Ano</th>\n      <th>Mes</th>\n      <th>Tipo de visitantes</th>\n      <th></th>\n      <th></th>\n      <th></th>\n    </tr>\n  </thead>\n  <tbody>\n    <tr>\n      <th rowspan=\"5\" valign=\"top\">Capilla Abierta de Tlalmanalco</th>\n      <th rowspan=\"5\" valign=\"top\">2019</th>\n      <th rowspan=\"5\" valign=\"top\">1</th>\n      <th>Boleto pagado</th>\n      <td>12</td>\n      <td>1172</td>\n      <td>1.023891</td>\n    </tr>\n    <tr>\n      <th>Discapacitados</th>\n      <td>4</td>\n      <td>1172</td>\n      <td>0.341297</td>\n    </tr>\n    <tr>\n      <th>Entrada dominical</th>\n      <td>322</td>\n      <td>1172</td>\n      <td>27.474403</td>\n    </tr>\n    <tr>\n      <th>Entrada sin costo</th>\n      <td>580</td>\n      <td>1172</td>\n      <td>49.488055</td>\n    </tr>\n    <tr>\n      <th>Estudiantes nivel b�sico</th>\n      <td>48</td>\n      <td>1172</td>\n      <td>4.095563</td>\n    </tr>\n    <tr>\n      <th>...</th>\n      <th>...</th>\n      <th>...</th>\n      <th>...</th>\n      <td>...</td>\n      <td>...</td>\n      <td>...</td>\n    </tr>\n    <tr>\n      <th rowspan=\"5\" valign=\"top\">Z.A. de Zaachila</th>\n      <th rowspan=\"5\" valign=\"top\">2019</th>\n      <th rowspan=\"5\" valign=\"top\">12</th>\n      <th>Estudiantes nivel superior</th>\n      <td>23</td>\n      <td>569</td>\n      <td>4.042179</td>\n    </tr>\n    <tr>\n      <th>Exposiciones temporales con costo adicional</th>\n      <td>0</td>\n      <td>569</td>\n      <td>0.000000</td>\n    </tr>\n    <tr>\n      <th>Profesores</th>\n      <td>8</td>\n      <td>569</td>\n      <td>1.405975</td>\n    </tr>\n    <tr>\n      <th>Tercera edad, pensionados y jubilados</th>\n      <td>19</td>\n      <td>569</td>\n      <td>3.339192</td>\n    </tr>\n    <tr>\n      <th>Trabajadores INAH</th>\n      <td>13</td>\n      <td>569</td>\n      <td>2.284710</td>\n    </tr>\n  </tbody>\n</table>\n<p>32830 rows × 3 columns</p>\n</div>"
     },
     "metadata": {}
    }
   ],
   "source": [
    "# - Porcentaje de tipo de visitantes por recinto (Mes y Año)\n",
    "\n",
    "group_base = ['Centro de trabajo', 'Ano', 'Mes']\n",
    "\n",
    "workcenter_by_date_and_visit_type = df.groupby(group_base + ['Tipo de visitantes']).sum()\n",
    "display(workcenter_by_date_and_visit_type)\n",
    "\n",
    "workcenter_by_date = df.groupby(group_base).sum()\n",
    "display(workcenter_by_date)\n",
    "\n",
    "workcenter_visit_type_vs_workcenter_by_date = workcenter_by_date_and_visit_type.join(workcenter_by_date, on=group_base, rsuffix='_total')\n",
    "display(workcenter_visit_type_vs_workcenter_by_date)\n",
    "\n",
    "workcenter_visit_type_vs_workcenter_by_date['percentage'] = workcenter_visit_type_vs_workcenter_by_date['Numero de visitas']*100 / workcenter_visit_type_vs_workcenter_by_date['Numero de visitas_total']\n",
    "display(workcenter_visit_type_vs_workcenter_by_date)\n",
    "\n"
   ]
  }
 ]
}